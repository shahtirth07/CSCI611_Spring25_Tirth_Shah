{
 "cells": [
  {
   "cell_type": "code",
   "execution_count": 1,
   "metadata": {},
   "outputs": [
    {
     "name": "stdout",
     "output_type": "stream",
     "text": [
      "Ultralytics 8.3.82  Python-3.12.9 torch-2.6.0+cu118 CPU (11th Gen Intel Core(TM) i5-1135G7 2.40GHz)\n",
      "YOLOv8n summary (fused): 72 layers, 3,151,904 parameters, 0 gradients, 8.7 GFLOPs\n",
      "\n",
      "\u001b[34m\u001b[1mPyTorch:\u001b[0m starting from 'yolov8n.pt' with input shape (1, 3, 640, 640) BCHW and output shape(s) (1, 84, 8400) (6.2 MB)\n",
      "\n",
      "\u001b[34m\u001b[1mOpenVINO:\u001b[0m starting export with openvino 2024.6.0-17404-4c0f47d2335-releases/2024/6...\n",
      "\u001b[34m\u001b[1mOpenVINO:\u001b[0m export success  6.4s, saved as 'yolov8n_openvino_model\\' (12.3 MB)\n",
      "\n",
      "Export complete (7.1s)\n",
      "Results saved to \u001b[1mC:\\Users\\tshah\\OneDrive - California State University Chico\\Desktop\\CourseWork\\CSCI611\u001b[0m\n",
      "Predict:         yolo predict task=detect model=yolov8n_openvino_model imgsz=640  \n",
      "Validate:        yolo val task=detect model=yolov8n_openvino_model imgsz=640 data=coco.yaml  \n",
      "Visualize:       https://netron.app\n"
     ]
    },
    {
     "data": {
      "text/plain": [
       "'yolov8n_openvino_model'"
      ]
     },
     "execution_count": 1,
     "metadata": {},
     "output_type": "execute_result"
    }
   ],
   "source": [
    "from ultralytics import YOLO\n",
    "\n",
    "# Load YOLO model\n",
    "model = YOLO(\"yolov8n.pt\")\n",
    "\n",
    "# Convert to OpenVINO format\n",
    "model.export(format=\"openvino\")\n"
   ]
  },
  {
   "cell_type": "code",
   "execution_count": 6,
   "metadata": {},
   "outputs": [
    {
     "name": "stdout",
     "output_type": "stream",
     "text": [
      "\n",
      "image 1/1 c:\\Users\\tshah\\OneDrive - California State University Chico\\Desktop\\CourseWork\\CSCI611\\Sign.jpg: 640x640 2 stop signs, 199.8ms\n",
      "Speed: 10.7ms preprocess, 199.8ms inference, 1.3ms postprocess per image at shape (1, 3, 640, 640)\n",
      "Results saved to \u001b[1mruns\\detect\\predict\u001b[0m\n"
     ]
    }
   ],
   "source": [
    "results = model(\"Sign.jpg\", save=True)"
   ]
  },
  {
   "cell_type": "code",
   "execution_count": 1,
   "metadata": {},
   "outputs": [
    {
     "name": "stdout",
     "output_type": "stream",
     "text": [
      "✅ XML to YOLO format conversion complete!\n"
     ]
    }
   ],
   "source": [
    "import os\n",
    "import xml.etree.ElementTree as ET\n",
    "\n",
    "# Define class names with numeric IDs\n",
    "CLASS_NAMES = {\"Speed Limit 30\": 0, \"Speed Limit 20\": 1}  # Add more if needed\n",
    "\n",
    "# Define dataset paths\n",
    "xml_folder = \"datasets/Self-Driving Cars.v6-version-4-prescan-416x416.voc/test/XML_Files\"\n",
    "txt_folder = \"datasets/Self-Driving Cars.v6-version-4-prescan-416x416.voc/test/labels\"  # YOLO label folder\n",
    "\n",
    "# Ensure labels directory exists\n",
    "os.makedirs(txt_folder, exist_ok=True)\n",
    "\n",
    "# Convert XML to YOLO TXT format\n",
    "for xml_file in os.listdir(xml_folder):\n",
    "    if not xml_file.endswith(\".xml\"):\n",
    "        continue\n",
    "\n",
    "    tree = ET.parse(os.path.join(xml_folder, xml_file))\n",
    "    root = tree.getroot()\n",
    "\n",
    "    img_width = int(root.find(\"size/width\").text)\n",
    "    img_height = int(root.find(\"size/height\").text)\n",
    "\n",
    "    txt_filename = os.path.join(txt_folder, xml_file.replace(\".xml\", \".txt\"))\n",
    "\n",
    "    with open(txt_filename, \"w\") as txt_file:\n",
    "        for obj in root.findall(\"object\"):\n",
    "            class_name = obj.find(\"name\").text\n",
    "            if class_name not in CLASS_NAMES:\n",
    "                continue\n",
    "\n",
    "            class_id = CLASS_NAMES[class_name]\n",
    "            xmin = int(obj.find(\"bndbox/xmin\").text)\n",
    "            xmax = int(obj.find(\"bndbox/xmax\").text)\n",
    "            ymin = int(obj.find(\"bndbox/ymin\").text)\n",
    "            ymax = int(obj.find(\"bndbox/ymax\").text)\n",
    "\n",
    "            # Normalize YOLO format\n",
    "            x_center = (xmin + xmax) / (2 * img_width)\n",
    "            y_center = (ymin + ymax) / (2 * img_height)\n",
    "            bbox_width = (xmax - xmin) / img_width\n",
    "            bbox_height = (ymax - ymin) / img_height\n",
    "\n",
    "            # Write to TXT file\n",
    "            txt_file.write(f\"{class_id} {x_center:.6f} {y_center:.6f} {bbox_width:.6f} {bbox_height:.6f}\\n\")\n",
    "\n",
    "print(\"✅ XML to YOLO format conversion complete!\")\n"
   ]
  },
  {
   "cell_type": "code",
   "execution_count": 3,
   "metadata": {},
   "outputs": [],
   "source": [
    "from ultralytics import YOLO\n",
    "\n",
    "# Load YOLO model\n",
    "model = YOLO(\"yolov8n.pt\")\n",
    "\n",
    "# Train the model\n",
    "# model.train(data=\"dataset.yaml\", epochs=10, imgsz=1280, batch=30)"
   ]
  },
  {
   "cell_type": "code",
   "execution_count": 17,
   "metadata": {},
   "outputs": [
    {
     "name": "stdout",
     "output_type": "stream",
     "text": [
      "\n"
     ]
    },
    {
     "name": "stdout",
     "output_type": "stream",
     "text": [
      "image 1/1 c:\\Users\\tshah\\OneDrive - California State University Chico\\Desktop\\CourseWork\\CSCI611\\00000_00005_00000_png.rf.4b0a9b1409c4ee2cc880aa6e173d5e0e.jpg: 640x640 (no detections), 166.5ms\n",
      "Speed: 19.9ms preprocess, 166.5ms inference, 0.9ms postprocess per image at shape (1, 3, 640, 640)\n",
      "Results saved to \u001b[1mruns\\detect\\predict2\u001b[0m\n",
      "✅ YOLO model training complete!\n"
     ]
    }
   ],
   "source": [
    "results = model(\"00000_00005_00000_png.rf.4b0a9b1409c4ee2cc880aa6e173d5e0e.jpg\",save=True)\n",
    "\n",
    "\n",
    "\n",
    "print(\"✅ YOLO model training complete!\")"
   ]
  }
 ],
 "metadata": {
  "kernelspec": {
   "display_name": "Python 3",
   "language": "python",
   "name": "python3"
  },
  "language_info": {
   "codemirror_mode": {
    "name": "ipython",
    "version": 3
   },
   "file_extension": ".py",
   "mimetype": "text/x-python",
   "name": "python",
   "nbconvert_exporter": "python",
   "pygments_lexer": "ipython3",
   "version": "3.12.9"
  }
 },
 "nbformat": 4,
 "nbformat_minor": 2
}
